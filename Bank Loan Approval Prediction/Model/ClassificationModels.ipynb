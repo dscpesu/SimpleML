{
 "cells": [
  {
   "cell_type": "markdown",
   "metadata": {},
   "source": [
    "# Importing Libraries"
   ]
  },
  {
   "cell_type": "code",
   "execution_count": 1,
   "metadata": {},
   "outputs": [],
   "source": [
    "#importing libraries\n",
    "import pandas as pd\n",
    "import numpy as np\n",
    "import matplotlib.pyplot as plt\n",
    "%matplotlib inline\n",
    "import seaborn as sns"
   ]
  },
  {
   "cell_type": "markdown",
   "metadata": {},
   "source": [
    "# Loading the dataset"
   ]
  },
  {
   "cell_type": "code",
   "execution_count": 2,
   "metadata": {},
   "outputs": [
    {
     "data": {
      "text/html": [
       "<div>\n",
       "<style scoped>\n",
       "    .dataframe tbody tr th:only-of-type {\n",
       "        vertical-align: middle;\n",
       "    }\n",
       "\n",
       "    .dataframe tbody tr th {\n",
       "        vertical-align: top;\n",
       "    }\n",
       "\n",
       "    .dataframe thead th {\n",
       "        text-align: right;\n",
       "    }\n",
       "</style>\n",
       "<table border=\"1\" class=\"dataframe\">\n",
       "  <thead>\n",
       "    <tr style=\"text-align: right;\">\n",
       "      <th></th>\n",
       "      <th>ID</th>\n",
       "      <th>Age</th>\n",
       "      <th>Experience</th>\n",
       "      <th>Income</th>\n",
       "      <th>ZIP Code</th>\n",
       "      <th>Family</th>\n",
       "      <th>CCAvg</th>\n",
       "      <th>Education</th>\n",
       "      <th>Mortgage</th>\n",
       "      <th>Personal Loan</th>\n",
       "      <th>Securities Account</th>\n",
       "      <th>CD Account</th>\n",
       "      <th>Online</th>\n",
       "      <th>CreditCard</th>\n",
       "    </tr>\n",
       "  </thead>\n",
       "  <tbody>\n",
       "    <tr>\n",
       "      <th>0</th>\n",
       "      <td>1</td>\n",
       "      <td>25</td>\n",
       "      <td>1</td>\n",
       "      <td>49</td>\n",
       "      <td>91107</td>\n",
       "      <td>4</td>\n",
       "      <td>1.6</td>\n",
       "      <td>1</td>\n",
       "      <td>0</td>\n",
       "      <td>0</td>\n",
       "      <td>1</td>\n",
       "      <td>0</td>\n",
       "      <td>0</td>\n",
       "      <td>0</td>\n",
       "    </tr>\n",
       "    <tr>\n",
       "      <th>1</th>\n",
       "      <td>2</td>\n",
       "      <td>45</td>\n",
       "      <td>19</td>\n",
       "      <td>34</td>\n",
       "      <td>90089</td>\n",
       "      <td>3</td>\n",
       "      <td>1.5</td>\n",
       "      <td>1</td>\n",
       "      <td>0</td>\n",
       "      <td>0</td>\n",
       "      <td>1</td>\n",
       "      <td>0</td>\n",
       "      <td>0</td>\n",
       "      <td>0</td>\n",
       "    </tr>\n",
       "    <tr>\n",
       "      <th>2</th>\n",
       "      <td>3</td>\n",
       "      <td>39</td>\n",
       "      <td>15</td>\n",
       "      <td>11</td>\n",
       "      <td>94720</td>\n",
       "      <td>1</td>\n",
       "      <td>1.0</td>\n",
       "      <td>1</td>\n",
       "      <td>0</td>\n",
       "      <td>0</td>\n",
       "      <td>0</td>\n",
       "      <td>0</td>\n",
       "      <td>0</td>\n",
       "      <td>0</td>\n",
       "    </tr>\n",
       "    <tr>\n",
       "      <th>3</th>\n",
       "      <td>4</td>\n",
       "      <td>35</td>\n",
       "      <td>9</td>\n",
       "      <td>100</td>\n",
       "      <td>94112</td>\n",
       "      <td>1</td>\n",
       "      <td>2.7</td>\n",
       "      <td>2</td>\n",
       "      <td>0</td>\n",
       "      <td>0</td>\n",
       "      <td>0</td>\n",
       "      <td>0</td>\n",
       "      <td>0</td>\n",
       "      <td>0</td>\n",
       "    </tr>\n",
       "    <tr>\n",
       "      <th>4</th>\n",
       "      <td>5</td>\n",
       "      <td>35</td>\n",
       "      <td>8</td>\n",
       "      <td>45</td>\n",
       "      <td>91330</td>\n",
       "      <td>4</td>\n",
       "      <td>1.0</td>\n",
       "      <td>2</td>\n",
       "      <td>0</td>\n",
       "      <td>0</td>\n",
       "      <td>0</td>\n",
       "      <td>0</td>\n",
       "      <td>0</td>\n",
       "      <td>1</td>\n",
       "    </tr>\n",
       "  </tbody>\n",
       "</table>\n",
       "</div>"
      ],
      "text/plain": [
       "   ID  Age  Experience  Income  ZIP Code  Family  CCAvg  Education  Mortgage  \\\n",
       "0   1   25           1      49     91107       4    1.6          1         0   \n",
       "1   2   45          19      34     90089       3    1.5          1         0   \n",
       "2   3   39          15      11     94720       1    1.0          1         0   \n",
       "3   4   35           9     100     94112       1    2.7          2         0   \n",
       "4   5   35           8      45     91330       4    1.0          2         0   \n",
       "\n",
       "   Personal Loan  Securities Account  CD Account  Online  CreditCard  \n",
       "0              0                   1           0       0           0  \n",
       "1              0                   1           0       0           0  \n",
       "2              0                   0           0       0           0  \n",
       "3              0                   0           0       0           0  \n",
       "4              0                   0           0       0           1  "
      ]
     },
     "execution_count": 2,
     "metadata": {},
     "output_type": "execute_result"
    }
   ],
   "source": [
    "data = pd.read_csv('../Dataset/UniversalBank.csv')\n",
    "data.head()"
   ]
  },
  {
   "cell_type": "code",
   "execution_count": 3,
   "metadata": {},
   "outputs": [
    {
     "data": {
      "text/plain": [
       "(5000, 14)"
      ]
     },
     "execution_count": 3,
     "metadata": {},
     "output_type": "execute_result"
    }
   ],
   "source": [
    "data.shape"
   ]
  },
  {
   "cell_type": "markdown",
   "metadata": {},
   "source": [
    "# Correlation Heatmap"
   ]
  },
  {
   "cell_type": "code",
   "execution_count": 4,
   "metadata": {},
   "outputs": [
    {
     "data": {
      "image/png": "[encoded data removed]",
      "text/plain": [
       "<Figure size 1100x900 with 2 Axes>"
      ]
     },
     "metadata": {},
     "output_type": "display_data"
    },
    {
     "data": {
      "text/plain": [
       "<Figure size 640x480 with 0 Axes>"
      ]
     },
     "metadata": {},
     "output_type": "display_data"
    }
   ],
   "source": [
    "# Set background color / chart style\n",
    "sns.set_style(style = 'white')\n",
    "\n",
    "# Set up  matplotlib figure\n",
    "plt.figure(figsize=(11,9))\n",
    "\n",
    "#Heatmap\n",
    "sns.heatmap(data.corr(), cmap=plt.cm.YlGnBu_r, center=0, annot=True)\n",
    "\n",
    "plt.show()\n",
    "plt.savefig(\"heatmap.png\")"
   ]
  },
  {
   "cell_type": "markdown",
   "metadata": {},
   "source": [
    "## Feature Selection"
   ]
  },
  {
   "cell_type": "markdown",
   "metadata": {},
   "source": [
    "From Correlation Heatmap,\n",
    "Personal Loan(Target variable) is comparatively more dependent on Income, CCAvg, CD Account. So these are some top attributes.\n",
    "\n",
    "Also Age and Experience are highly correlated. Hence we have to remove one of them to reduce noise and multicollinearity. Let us remove Experience as Personal Loan is more dependent on Age."
   ]
  },
  {
   "cell_type": "code",
   "execution_count": 5,
   "metadata": {},
   "outputs": [
    {
     "data": {
      "text/html": [
       "<div>\n",
       "<style scoped>\n",
       "    .dataframe tbody tr th:only-of-type {\n",
       "        vertical-align: middle;\n",
       "    }\n",
       "\n",
       "    .dataframe tbody tr th {\n",
       "        vertical-align: top;\n",
       "    }\n",
       "\n",
       "    .dataframe thead th {\n",
       "        text-align: right;\n",
       "    }\n",
       "</style>\n",
       "<table border=\"1\" class=\"dataframe\">\n",
       "  <thead>\n",
       "    <tr style=\"text-align: right;\">\n",
       "      <th></th>\n",
       "      <th>ID</th>\n",
       "      <th>Age</th>\n",
       "      <th>Income</th>\n",
       "      <th>ZIP Code</th>\n",
       "      <th>Family</th>\n",
       "      <th>CCAvg</th>\n",
       "      <th>Education</th>\n",
       "      <th>Mortgage</th>\n",
       "      <th>Personal Loan</th>\n",
       "      <th>Securities Account</th>\n",
       "      <th>CD Account</th>\n",
       "      <th>Online</th>\n",
       "      <th>CreditCard</th>\n",
       "    </tr>\n",
       "  </thead>\n",
       "  <tbody>\n",
       "    <tr>\n",
       "      <th>0</th>\n",
       "      <td>1</td>\n",
       "      <td>25</td>\n",
       "      <td>49</td>\n",
       "      <td>91107</td>\n",
       "      <td>4</td>\n",
       "      <td>1.6</td>\n",
       "      <td>1</td>\n",
       "      <td>0</td>\n",
       "      <td>0</td>\n",
       "      <td>1</td>\n",
       "      <td>0</td>\n",
       "      <td>0</td>\n",
       "      <td>0</td>\n",
       "    </tr>\n",
       "    <tr>\n",
       "      <th>1</th>\n",
       "      <td>2</td>\n",
       "      <td>45</td>\n",
       "      <td>34</td>\n",
       "      <td>90089</td>\n",
       "      <td>3</td>\n",
       "      <td>1.5</td>\n",
       "      <td>1</td>\n",
       "      <td>0</td>\n",
       "      <td>0</td>\n",
       "      <td>1</td>\n",
       "      <td>0</td>\n",
       "      <td>0</td>\n",
       "      <td>0</td>\n",
       "    </tr>\n",
       "    <tr>\n",
       "      <th>2</th>\n",
       "      <td>3</td>\n",
       "      <td>39</td>\n",
       "      <td>11</td>\n",
       "      <td>94720</td>\n",
       "      <td>1</td>\n",
       "      <td>1.0</td>\n",
       "      <td>1</td>\n",
       "      <td>0</td>\n",
       "      <td>0</td>\n",
       "      <td>0</td>\n",
       "      <td>0</td>\n",
       "      <td>0</td>\n",
       "      <td>0</td>\n",
       "    </tr>\n",
       "    <tr>\n",
       "      <th>3</th>\n",
       "      <td>4</td>\n",
       "      <td>35</td>\n",
       "      <td>100</td>\n",
       "      <td>94112</td>\n",
       "      <td>1</td>\n",
       "      <td>2.7</td>\n",
       "      <td>2</td>\n",
       "      <td>0</td>\n",
       "      <td>0</td>\n",
       "      <td>0</td>\n",
       "      <td>0</td>\n",
       "      <td>0</td>\n",
       "      <td>0</td>\n",
       "    </tr>\n",
       "    <tr>\n",
       "      <th>4</th>\n",
       "      <td>5</td>\n",
       "      <td>35</td>\n",
       "      <td>45</td>\n",
       "      <td>91330</td>\n",
       "      <td>4</td>\n",
       "      <td>1.0</td>\n",
       "      <td>2</td>\n",
       "      <td>0</td>\n",
       "      <td>0</td>\n",
       "      <td>0</td>\n",
       "      <td>0</td>\n",
       "      <td>0</td>\n",
       "      <td>1</td>\n",
       "    </tr>\n",
       "  </tbody>\n",
       "</table>\n",
       "</div>"
      ],
      "text/plain": [
       "   ID  Age  Income  ZIP Code  Family  CCAvg  Education  Mortgage  \\\n",
       "0   1   25      49     91107       4    1.6          1         0   \n",
       "1   2   45      34     90089       3    1.5          1         0   \n",
       "2   3   39      11     94720       1    1.0          1         0   \n",
       "3   4   35     100     94112       1    2.7          2         0   \n",
       "4   5   35      45     91330       4    1.0          2         0   \n",
       "\n",
       "   Personal Loan  Securities Account  CD Account  Online  CreditCard  \n",
       "0              0                   1           0       0           0  \n",
       "1              0                   1           0       0           0  \n",
       "2              0                   0           0       0           0  \n",
       "3              0                   0           0       0           0  \n",
       "4              0                   0           0       0           1  "
      ]
     },
     "execution_count": 5,
     "metadata": {},
     "output_type": "execute_result"
    }
   ],
   "source": [
    "data = data.drop(['Experience'], axis=1)\n",
    "data.head()"
   ]
  },
  {
   "cell_type": "code",
   "execution_count": 6,
   "metadata": {},
   "outputs": [
    {
     "data": {
      "text/plain": [
       "(5000, 13)"
      ]
     },
     "execution_count": 6,
     "metadata": {},
     "output_type": "execute_result"
    }
   ],
   "source": [
    "data.shape"
   ]
  },
  {
   "cell_type": "markdown",
   "metadata": {},
   "source": [
    "# Segregating Variables: Independent and Dependent Variables"
   ]
  },
  {
   "cell_type": "code",
   "execution_count": 7,
   "metadata": {},
   "outputs": [
    {
     "data": {
      "text/plain": [
       "((5000, 12), (5000,))"
      ]
     },
     "execution_count": 7,
     "metadata": {},
     "output_type": "execute_result"
    }
   ],
   "source": [
    "#segregating variables\n",
    "x = data.drop(['Personal Loan'], axis=1)\n",
    "y = data['Personal Loan']\n",
    "x.shape, y.shape"
   ]
  },
  {
   "cell_type": "markdown",
   "metadata": {},
   "source": [
    "# Scaling the data(Using MinMax Scaler)"
   ]
  },
  {
   "cell_type": "code",
   "execution_count": 8,
   "metadata": {},
   "outputs": [],
   "source": [
    "# Importing MinMax Scaler\n",
    "from sklearn.preprocessing import MinMaxScaler\n",
    "scaler = MinMaxScaler()\n",
    "x_scaled = scaler.fit_transform(x)"
   ]
  },
  {
   "cell_type": "code",
   "execution_count": 9,
   "metadata": {},
   "outputs": [],
   "source": [
    "x = pd.DataFrame(x_scaled)"
   ]
  },
  {
   "cell_type": "markdown",
   "metadata": {},
   "source": [
    "# Splitting the Dataset"
   ]
  },
  {
   "cell_type": "code",
   "execution_count": 10,
   "metadata": {},
   "outputs": [],
   "source": [
    "# Importing Train test split\n",
    "from sklearn.model_selection import train_test_split\n",
    "# Splitting into Train and Test Data sets\n",
    "train_x, test_x, train_y, test_y = train_test_split(x,y, random_state = 49)"
   ]
  },
  {
   "cell_type": "markdown",
   "metadata": {},
   "source": [
    "# Implementing the Models"
   ]
  },
  {
   "cell_type": "markdown",
   "metadata": {},
   "source": [
    "KNN Classifier\n",
    "Logistic Regressor\n",
    "ANN\n",
    "Random Forest Classifier\n",
    "Naive Bayes\n",
    "Decision Tree\n",
    "Stochastic Gradient Descent\n",
    "Support Vector Machines"
   ]
  },
  {
   "cell_type": "code",
   "execution_count": 11,
   "metadata": {},
   "outputs": [],
   "source": [
    "# Importing the models\n",
    "from sklearn.neighbors import KNeighborsClassifier\n",
    "from sklearn.linear_model import LogisticRegression, SGDClassifier\n",
    "from sklearn.ensemble import RandomForestClassifier\n",
    "from sklearn.naive_bayes import GaussianNB\n",
    "from sklearn.tree import DecisionTreeClassifier\n",
    "from sklearn.svm import SVC\n",
    "from sklearn.neural_network import MLPClassifier"
   ]
  },
  {
   "cell_type": "code",
   "execution_count": 12,
   "metadata": {},
   "outputs": [],
   "source": [
    "# Creating the models\n",
    "knn_cls = KNeighborsClassifier(n_neighbors=5)\n",
    "log_cls = LogisticRegression()\n",
    "ann_cls = MLPClassifier(hidden_layer_sizes=100, max_iter=500, random_state=49, learning_rate_init=0.001 )\n",
    "rf_cls = RandomForestClassifier(n_estimators=100)\n",
    "nb_cls = GaussianNB()\n",
    "dt_cls = DecisionTreeClassifier()\n",
    "sgd_cls = SGDClassifier()\n",
    "svm_cls = SVC()"
   ]
  },
  {
   "cell_type": "code",
   "execution_count": 13,
   "metadata": {},
   "outputs": [
    {
     "data": {
      "text/html": [
       "<style>#sk-container-id-1 {color: black;}#sk-container-id-1 pre{padding: 0;}#sk-container-id-1 div.sk-toggleable {background-color: white;}#sk-container-id-1 label.sk-toggleable__label {cursor: pointer;display: block;width: 100%;margin-bottom: 0;padding: 0.3em;box-sizing: border-box;text-align: center;}#sk-container-id-1 label.sk-toggleable__label-arrow:before {content: \"▸\";float: left;margin-right: 0.25em;color: #696969;}#sk-container-id-1 label.sk-toggleable__label-arrow:hover:before {color: black;}#sk-container-id-1 div.sk-estimator:hover label.sk-toggleable__label-arrow:before {color: black;}#sk-container-id-1 div.sk-toggleable__content {max-height: 0;max-width: 0;overflow: hidden;text-align: left;background-color: #f0f8ff;}#sk-container-id-1 div.sk-toggleable__content pre {margin: 0.2em;color: black;border-radius: 0.25em;background-color: #f0f8ff;}#sk-container-id-1 input.sk-toggleable__control:checked~div.sk-toggleable__content {max-height: 200px;max-width: 100%;overflow: auto;}#sk-container-id-1 input.sk-toggleable__control:checked~label.sk-toggleable__label-arrow:before {content: \"▾\";}#sk-container-id-1 div.sk-estimator input.sk-toggleable__control:checked~label.sk-toggleable__label {background-color: #d4ebff;}#sk-container-id-1 div.sk-label input.sk-toggleable__control:checked~label.sk-toggleable__label {background-color: #d4ebff;}#sk-container-id-1 input.sk-hidden--visually {border: 0;clip: rect(1px 1px 1px 1px);clip: rect(1px, 1px, 1px, 1px);height: 1px;margin: -1px;overflow: hidden;padding: 0;position: absolute;width: 1px;}#sk-container-id-1 div.sk-estimator {font-family: monospace;background-color: #f0f8ff;border: 1px dotted black;border-radius: 0.25em;box-sizing: border-box;margin-bottom: 0.5em;}#sk-container-id-1 div.sk-estimator:hover {background-color: #d4ebff;}#sk-container-id-1 div.sk-parallel-item::after {content: \"\";width: 100%;border-bottom: 1px solid gray;flex-grow: 1;}#sk-container-id-1 div.sk-label:hover label.sk-toggleable__label {background-color: #d4ebff;}#sk-container-id-1 div.sk-serial::before {content: \"\";position: absolute;border-left: 1px solid gray;box-sizing: border-box;top: 0;bottom: 0;left: 50%;z-index: 0;}#sk-container-id-1 div.sk-serial {display: flex;flex-direction: column;align-items: center;background-color: white;padding-right: 0.2em;padding-left: 0.2em;position: relative;}#sk-container-id-1 div.sk-item {position: relative;z-index: 1;}#sk-container-id-1 div.sk-parallel {display: flex;align-items: stretch;justify-content: center;background-color: white;position: relative;}#sk-container-id-1 div.sk-item::before, #sk-container-id-1 div.sk-parallel-item::before {content: \"\";position: absolute;border-left: 1px solid gray;box-sizing: border-box;top: 0;bottom: 0;left: 50%;z-index: -1;}#sk-container-id-1 div.sk-parallel-item {display: flex;flex-direction: column;z-index: 1;position: relative;background-color: white;}#sk-container-id-1 div.sk-parallel-item:first-child::after {align-self: flex-end;width: 50%;}#sk-container-id-1 div.sk-parallel-item:last-child::after {align-self: flex-start;width: 50%;}#sk-container-id-1 div.sk-parallel-item:only-child::after {width: 0;}#sk-container-id-1 div.sk-dashed-wrapped {border: 1px dashed gray;margin: 0 0.4em 0.5em 0.4em;box-sizing: border-box;padding-bottom: 0.4em;background-color: white;}#sk-container-id-1 div.sk-label label {font-family: monospace;font-weight: bold;display: inline-block;line-height: 1.2em;}#sk-container-id-1 div.sk-label-container {text-align: center;}#sk-container-id-1 div.sk-container {/* jupyter's `normalize.less` sets `[hidden] { display: none; }` but bootstrap.min.css set `[hidden] { display: none !important; }` so we also need the `!important` here to be able to override the default hidden behavior on the sphinx rendered scikit-learn.org. See: https://github.com/scikit-learn/scikit-learn/issues/21755 */display: inline-block !important;position: relative;}#sk-container-id-1 div.sk-text-repr-fallback {display: none;}</style><div id=\"sk-container-id-1\" class=\"sk-top-container\"><div class=\"sk-text-repr-fallback\"><pre>SVC()</pre><b>In a Jupyter environment, please rerun this cell to show the HTML representation or trust the notebook. <br />On GitHub, the HTML representation is unable to render, please try loading this page with nbviewer.org.</b></div><div class=\"sk-container\" hidden><div class=\"sk-item\"><div class=\"sk-estimator sk-toggleable\"><input class=\"sk-toggleable__control sk-hidden--visually\" id=\"sk-estimator-id-1\" type=\"checkbox\" checked><label for=\"sk-estimator-id-1\" class=\"sk-toggleable__label sk-toggleable__label-arrow\">SVC</label><div class=\"sk-toggleable__content\"><pre>SVC()</pre></div></div></div></div></div>"
      ],
      "text/plain": [
       "SVC()"
      ]
     },
     "execution_count": 13,
     "metadata": {},
     "output_type": "execute_result"
    }
   ],
   "source": [
    "# Fitting the models\n",
    "knn_cls.fit(train_x,train_y)\n",
    "log_cls.fit(train_x,train_y)\n",
    "ann_cls.fit(train_x,train_y)\n",
    "rf_cls.fit(train_x,train_y)\n",
    "nb_cls.fit(train_x,train_y)\n",
    "dt_cls.fit(train_x,train_y)\n",
    "sgd_cls.fit(train_x,train_y)\n",
    "svm_cls.fit(train_x,train_y)"
   ]
  },
  {
   "cell_type": "markdown",
   "metadata": {},
   "source": [
    "## Evaluation and Cross-Validation of the models"
   ]
  },
  {
   "cell_type": "code",
   "execution_count": 14,
   "metadata": {},
   "outputs": [
    {
     "data": {
      "text/html": [
       "<div>\n",
       "<style scoped>\n",
       "    .dataframe tbody tr th:only-of-type {\n",
       "        vertical-align: middle;\n",
       "    }\n",
       "\n",
       "    .dataframe tbody tr th {\n",
       "        vertical-align: top;\n",
       "    }\n",
       "\n",
       "    .dataframe thead th {\n",
       "        text-align: right;\n",
       "    }\n",
       "</style>\n",
       "<table border=\"1\" class=\"dataframe\">\n",
       "  <thead>\n",
       "    <tr style=\"text-align: right;\">\n",
       "      <th></th>\n",
       "      <th>Model</th>\n",
       "      <th>Precision</th>\n",
       "      <th>F1 Score</th>\n",
       "      <th>ROC-AUC Score</th>\n",
       "    </tr>\n",
       "  </thead>\n",
       "  <tbody>\n",
       "    <tr>\n",
       "      <th>0</th>\n",
       "      <td>KNN Classifier</td>\n",
       "      <td>0.939572</td>\n",
       "      <td>0.675966</td>\n",
       "      <td>0.917741</td>\n",
       "    </tr>\n",
       "    <tr>\n",
       "      <th>1</th>\n",
       "      <td>Logistic Regressor</td>\n",
       "      <td>0.863430</td>\n",
       "      <td>0.684920</td>\n",
       "      <td>0.957695</td>\n",
       "    </tr>\n",
       "    <tr>\n",
       "      <th>2</th>\n",
       "      <td>ANN</td>\n",
       "      <td>0.930763</td>\n",
       "      <td>0.902610</td>\n",
       "      <td>0.990540</td>\n",
       "    </tr>\n",
       "    <tr>\n",
       "      <th>3</th>\n",
       "      <td>Random Forest</td>\n",
       "      <td>0.980456</td>\n",
       "      <td>0.922139</td>\n",
       "      <td>0.997373</td>\n",
       "    </tr>\n",
       "    <tr>\n",
       "      <th>4</th>\n",
       "      <td>Naive Bayes</td>\n",
       "      <td>0.427153</td>\n",
       "      <td>0.491106</td>\n",
       "      <td>0.925726</td>\n",
       "    </tr>\n",
       "    <tr>\n",
       "      <th>5</th>\n",
       "      <td>Decision Tree</td>\n",
       "      <td>0.914175</td>\n",
       "      <td>0.894456</td>\n",
       "      <td>0.935269</td>\n",
       "    </tr>\n",
       "    <tr>\n",
       "      <th>6</th>\n",
       "      <td>Stochastic Gradient Descent</td>\n",
       "      <td>0.837161</td>\n",
       "      <td>0.691592</td>\n",
       "      <td>0.955088</td>\n",
       "    </tr>\n",
       "    <tr>\n",
       "      <th>7</th>\n",
       "      <td>Support Vector Machines</td>\n",
       "      <td>0.978283</td>\n",
       "      <td>0.830742</td>\n",
       "      <td>0.984428</td>\n",
       "    </tr>\n",
       "  </tbody>\n",
       "</table>\n",
       "</div>"
      ],
      "text/plain": [
       "                         Model  Precision  F1 Score  ROC-AUC Score\n",
       "0               KNN Classifier   0.939572  0.675966       0.917741\n",
       "1           Logistic Regressor   0.863430  0.684920       0.957695\n",
       "2                          ANN   0.930763  0.902610       0.990540\n",
       "3                Random Forest   0.980456  0.922139       0.997373\n",
       "4                  Naive Bayes   0.427153  0.491106       0.925726\n",
       "5                Decision Tree   0.914175  0.894456       0.935269\n",
       "6  Stochastic Gradient Descent   0.837161  0.691592       0.955088\n",
       "7      Support Vector Machines   0.978283  0.830742       0.984428"
      ]
     },
     "execution_count": 14,
     "metadata": {},
     "output_type": "execute_result"
    }
   ],
   "source": [
    "from sklearn.model_selection import cross_val_score, StratifiedKFold\n",
    "\n",
    "# Defining parameters for Cross-Validation\n",
    "num_folds = 5\n",
    "cv = StratifiedKFold(n_splits = num_folds, shuffle = True, random_state = 49)\n",
    "\n",
    "# Creating a Cross-Validation Function\n",
    "def cv_model(model, x, y):\n",
    "    precision_scores = cross_val_score(model, x, y, cv=cv, scoring='precision')\n",
    "    f1_scores = cross_val_score(model, x, y, cv=cv, scoring='f1')\n",
    "    roc_auc_scores = cross_val_score(model, x, y, cv=cv, scoring = 'roc_auc')\n",
    "\n",
    "    return precision_scores.mean(), f1_scores.mean(), roc_auc_scores.mean()\n",
    "\n",
    "# Performing Cross-Validation for each model\n",
    "results = []\n",
    "models = [\"KNN Classifier\", \"Logistic Regressor\", \"ANN\", \"Random Forest\", \"Naive Bayes\", \"Decision Tree\", \"Stochastic Gradient Descent\", \"Support Vector Machines\"]\n",
    "\n",
    "for model, model_name in zip([knn_cls, log_cls, ann_cls, rf_cls, nb_cls, dt_cls, sgd_cls, svm_cls], models ):\n",
    "    precision_scores_mean, f1_mean, roc_auc_mean = cv_model(model, x, y)\n",
    "\n",
    "    # Storing the Results\n",
    "    results.append({\n",
    "        \"Model\": model_name,\n",
    "        \"Precision\": precision_scores_mean,\n",
    "        \"F1 Score\": f1_mean,\n",
    "        \"ROC-AUC Score\": roc_auc_mean\n",
    "    })\n",
    "\n",
    "# Creating a dataframe to store the results\n",
    "cv_df = pd.DataFrame(results)\n",
    "cv_df\n"
   ]
  },
  {
   "cell_type": "markdown",
   "metadata": {},
   "source": [
    "### Comparison of the Models"
   ]
  },
  {
   "cell_type": "markdown",
   "metadata": {},
   "source": [
    "From the above results table, we can conclude that Random Forest Classifier model is performing well. Hence we shall use this model for predicting on the final test data set.\n",
    "(The explanation for the lesser performance of other models is present in the ModelsComparison.md)"
   ]
  },
  {
   "cell_type": "markdown",
   "metadata": {},
   "source": [
    "# Hyperparameter Tuning of the Best Model(Random Forrest Classifier)"
   ]
  },
  {
   "cell_type": "code",
   "execution_count": 15,
   "metadata": {},
   "outputs": [
    {
     "name": "stdout",
     "output_type": "stream",
     "text": [
      "Parameters currently in use:\n",
      "\n",
      "{'bootstrap': True,\n",
      " 'ccp_alpha': 0.0,\n",
      " 'class_weight': None,\n",
      " 'criterion': 'gini',\n",
      " 'max_depth': None,\n",
      " 'max_features': 'sqrt',\n",
      " 'max_leaf_nodes': None,\n",
      " 'max_samples': None,\n",
      " 'min_impurity_decrease': 0.0,\n",
      " 'min_samples_leaf': 1,\n",
      " 'min_samples_split': 2,\n",
      " 'min_weight_fraction_leaf': 0.0,\n",
      " 'n_estimators': 100,\n",
      " 'n_jobs': None,\n",
      " 'oob_score': False,\n",
      " 'random_state': None,\n",
      " 'verbose': 0,\n",
      " 'warm_start': False}\n"
     ]
    }
   ],
   "source": [
    "from pprint import pprint\n",
    "# Parameters used by our current model\n",
    "print('Parameters currently in use:\\n')\n",
    "pprint(rf_cls.get_params())"
   ]
  },
  {
   "cell_type": "markdown",
   "metadata": {},
   "source": [
    "### Using GridSearchCV"
   ]
  },
  {
   "cell_type": "code",
   "execution_count": 25,
   "metadata": {},
   "outputs": [
    {
     "name": "stdout",
     "output_type": "stream",
     "text": [
      "Fitting 3 folds for each of 1000 candidates, totalling 3000 fits\n"
     ]
    },
    {
     "name": "stderr",
     "output_type": "stream",
     "text": [
      "c:\\Users\\Lekhya\\miniconda3\\envs\\myenv\\lib\\site-packages\\sklearn\\model_selection\\_validation.py:425: FitFailedWarning: \n",
      "600 fits failed out of a total of 3000.\n",
      "The score on these train-test partitions for these parameters will be set to nan.\n",
      "If these failures are not expected, you can try to debug them by setting error_score='raise'.\n",
      "\n",
      "Below are more details about the failures:\n",
      "--------------------------------------------------------------------------------\n",
      "600 fits failed with the following error:\n",
      "Traceback (most recent call last):\n",
      "  File \"c:\\Users\\Lekhya\\miniconda3\\envs\\myenv\\lib\\site-packages\\sklearn\\model_selection\\_validation.py\", line 732, in _fit_and_score\n",
      "    estimator.fit(X_train, y_train, **fit_params)\n",
      "  File \"c:\\Users\\Lekhya\\miniconda3\\envs\\myenv\\lib\\site-packages\\sklearn\\base.py\", line 1144, in wrapper\n",
      "    estimator._validate_params()\n",
      "  File \"c:\\Users\\Lekhya\\miniconda3\\envs\\myenv\\lib\\site-packages\\sklearn\\base.py\", line 637, in _validate_params\n",
      "    validate_parameter_constraints(\n",
      "  File \"c:\\Users\\Lekhya\\miniconda3\\envs\\myenv\\lib\\site-packages\\sklearn\\utils\\_param_validation.py\", line 95, in validate_parameter_constraints\n",
      "    raise InvalidParameterError(\n",
      "sklearn.utils._param_validation.InvalidParameterError: The 'min_samples_split' parameter of RandomForestClassifier must be an int in the range [2, inf) or a float in the range (0.0, 1.0]. Got 1 instead.\n",
      "\n",
      "  warnings.warn(some_fits_failed_message, FitFailedWarning)\n",
      "c:\\Users\\Lekhya\\miniconda3\\envs\\myenv\\lib\\site-packages\\sklearn\\model_selection\\_search.py:976: UserWarning: One or more of the test scores are non-finite: [       nan        nan        nan        nan        nan 0.956\n",
      " 0.98346667 0.98266667 0.98266667 0.98213333 0.95253333 0.9832\n",
      " 0.98213333 0.9832     0.98266667 0.95066667 0.98213333 0.98186667\n",
      " 0.98186667 0.98186667 0.94186667 0.9808     0.9824     0.98213333\n",
      " 0.98186667        nan        nan        nan        nan        nan\n",
      " 0.95306667 0.98106667 0.98053333 0.98213333 0.98106667 0.95546667\n",
      " 0.98053333 0.9816     0.9816     0.98053333 0.95013333 0.98186667\n",
      " 0.98186667 0.98133333 0.98053333 0.94933333 0.9808     0.98186667\n",
      " 0.98106667 0.98133333        nan        nan        nan        nan\n",
      "        nan 0.9584     0.9792     0.9792     0.98       0.98106667\n",
      " 0.9576     0.98       0.98       0.98       0.97973333 0.94666667\n",
      " 0.98026667 0.98       0.97973333 0.98106667 0.94853333 0.97893333\n",
      " 0.9792     0.97973333 0.97946667        nan        nan        nan\n",
      "        nan        nan 0.94746667 0.97733333 0.97813333 0.97866667\n",
      " 0.9792     0.96186667 0.97813333 0.97786667 0.97786667 0.97733333\n",
      " 0.948      0.9784     0.97786667 0.97733333 0.97786667 0.9552\n",
      " 0.97786667 0.9792     0.97893333 0.97866667        nan        nan\n",
      "        nan        nan        nan 0.9368     0.9768     0.97706667\n",
      " 0.97706667 0.97733333 0.96133333 0.976      0.97706667 0.97866667\n",
      " 0.97653333 0.9376     0.97653333 0.97653333 0.9776     0.97733333\n",
      " 0.96346667 0.976      0.97813333 0.97733333 0.97706667        nan\n",
      "        nan        nan        nan        nan 0.94426667 0.98213333\n",
      " 0.98266667 0.98213333 0.98266667 0.95306667 0.98293333 0.9824\n",
      " 0.98266667 0.98213333 0.95066667 0.98213333 0.98186667 0.98213333\n",
      " 0.9824     0.95306667 0.9824     0.98133333 0.98213333 0.9816\n",
      "        nan        nan        nan        nan        nan 0.9368\n",
      " 0.98186667 0.9824     0.98026667 0.9816     0.96133333 0.98106667\n",
      " 0.98133333 0.98106667 0.9808     0.96106667 0.98106667 0.98213333\n",
      " 0.98106667 0.98133333 0.95413333 0.97973333 0.98106667 0.98053333\n",
      " 0.98133333        nan        nan        nan        nan        nan\n",
      " 0.94533333 0.97946667 0.9792     0.98       0.97973333 0.94346667\n",
      " 0.97973333 0.97946667 0.98053333 0.98026667 0.95706667 0.9808\n",
      " 0.98       0.97973333 0.98       0.94853333 0.97946667 0.97946667\n",
      " 0.97973333 0.97973333        nan        nan        nan        nan\n",
      "        nan 0.9368     0.97786667 0.97866667 0.97893333 0.97786667\n",
      " 0.95146667 0.97866667 0.9792     0.97813333 0.97786667 0.94453333\n",
      " 0.9768     0.9792     0.97813333 0.97813333 0.95306667 0.97786667\n",
      " 0.9776     0.97893333 0.97866667        nan        nan        nan\n",
      "        nan        nan 0.96186667 0.97653333 0.9776     0.97733333\n",
      " 0.9768     0.95333333 0.9784     0.97626667 0.97626667 0.97733333\n",
      " 0.96533333 0.97626667 0.97653333 0.97706667 0.97813333 0.95653333\n",
      " 0.97813333 0.97813333 0.97573333 0.9768            nan        nan\n",
      "        nan        nan        nan 0.96666667 0.98133333 0.9832\n",
      " 0.9832     0.98186667 0.95626667 0.9832     0.98213333 0.98293333\n",
      " 0.9824     0.9632     0.98346667 0.9832     0.9824     0.9824\n",
      " 0.95386667 0.98213333 0.98186667 0.9824     0.9816            nan\n",
      "        nan        nan        nan        nan 0.95546667 0.98106667\n",
      " 0.98026667 0.98186667 0.98133333 0.96186667 0.98106667 0.98266667\n",
      " 0.98026667 0.9808     0.95493333 0.98106667 0.98106667 0.98186667\n",
      " 0.98186667 0.96693333 0.9808     0.98026667 0.98106667 0.98106667\n",
      "        nan        nan        nan        nan        nan 0.9496\n",
      " 0.97973333 0.98026667 0.98       0.98026667 0.95173333 0.9784\n",
      " 0.9792     0.9784     0.98       0.9488     0.98       0.98\n",
      " 0.9784     0.98       0.94533333 0.9792     0.98026667 0.98026667\n",
      " 0.97893333        nan        nan        nan        nan        nan\n",
      " 0.95466667 0.976      0.9784     0.9792     0.97786667 0.968\n",
      " 0.9776     0.97866667 0.97866667 0.97813333 0.96293333 0.98\n",
      " 0.9784     0.97786667 0.97813333 0.96106667 0.97946667 0.97893333\n",
      " 0.97813333 0.9792            nan        nan        nan        nan\n",
      "        nan 0.95093333 0.97893333 0.97786667 0.97786667 0.97733333\n",
      " 0.95173333 0.9776     0.97573333 0.9776     0.97786667 0.9496\n",
      " 0.9768     0.97733333 0.97706667 0.9776     0.94293333 0.97893333\n",
      " 0.97706667 0.9768     0.97706667        nan        nan        nan\n",
      "        nan        nan 0.95413333 0.98346667 0.984      0.9832\n",
      " 0.98346667 0.96053333 0.9824     0.98266667 0.9816     0.98213333\n",
      " 0.964      0.9824     0.98213333 0.98293333 0.9824     0.9624\n",
      " 0.98213333 0.98106667 0.98133333 0.98186667        nan        nan\n",
      "        nan        nan        nan 0.94133333 0.98133333 0.9808\n",
      " 0.98106667 0.98133333 0.95546667 0.98106667 0.9808     0.98133333\n",
      " 0.98106667 0.9488     0.98053333 0.98186667 0.98106667 0.98053333\n",
      " 0.964      0.98106667 0.98106667 0.98106667 0.98106667        nan\n",
      "        nan        nan        nan        nan 0.94586667 0.97973333\n",
      " 0.98026667 0.97893333 0.9792     0.94853333 0.97973333 0.9784\n",
      " 0.97946667 0.98       0.92853333 0.98       0.98053333 0.98\n",
      " 0.97893333 0.94933333 0.97813333 0.97866667 0.98       0.98\n",
      "        nan        nan        nan        nan        nan 0.94053333\n",
      " 0.97813333 0.9776     0.9784     0.97813333 0.95466667 0.9784\n",
      " 0.9784     0.97866667 0.97893333 0.94853333 0.9784     0.9784\n",
      " 0.97706667 0.97866667 0.95413333 0.9776     0.97893333 0.97813333\n",
      " 0.97893333        nan        nan        nan        nan        nan\n",
      " 0.94826667 0.97653333 0.9768     0.9776     0.97733333 0.95333333\n",
      " 0.9752     0.976      0.97653333 0.97706667 0.94426667 0.9768\n",
      " 0.97786667 0.97653333 0.97653333 0.9496     0.97786667 0.97493333\n",
      " 0.9776     0.97733333        nan        nan        nan        nan\n",
      "        nan 0.96853333 0.98453333 0.98506667 0.98453333 0.98453333\n",
      " 0.94853333 0.98426667 0.98506667 0.9848     0.98506667 0.9576\n",
      " 0.984      0.984      0.98426667 0.98453333 0.96426667 0.98426667\n",
      " 0.98373333 0.984      0.9848            nan        nan        nan\n",
      "        nan        nan 0.95946667 0.984      0.98346667 0.98506667\n",
      " 0.984      0.95013333 0.9824     0.98426667 0.984      0.98426667\n",
      " 0.95733333 0.9832     0.98346667 0.98373333 0.984      0.9592\n",
      " 0.9832     0.98373333 0.98293333 0.9824            nan        nan\n",
      "        nan        nan        nan 0.956      0.98133333 0.98293333\n",
      " 0.9824     0.9816     0.95813333 0.98346667 0.9816     0.98106667\n",
      " 0.98266667 0.96586667 0.98106667 0.98346667 0.98186667 0.9816\n",
      " 0.96826667 0.98266667 0.9816     0.98213333 0.9816            nan\n",
      "        nan        nan        nan        nan 0.96506667 0.98213333\n",
      " 0.98133333 0.9816     0.98026667 0.95546667 0.9808     0.98\n",
      " 0.98026667 0.98106667 0.95573333 0.98133333 0.98       0.98106667\n",
      " 0.98133333 0.968      0.97973333 0.98186667 0.98186667 0.98106667\n",
      "        nan        nan        nan        nan        nan 0.9624\n",
      " 0.98026667 0.97946667 0.9784     0.9792     0.9552     0.98\n",
      " 0.9792     0.97866667 0.97893333 0.95413333 0.98       0.97946667\n",
      " 0.97973333 0.98026667 0.93973333 0.98053333 0.97946667 0.98\n",
      " 0.97973333        nan        nan        nan        nan        nan\n",
      " 0.96373333 0.98506667 0.9848     0.98533333 0.98506667 0.95786667\n",
      " 0.9848     0.98426667 0.9848     0.98426667 0.97093333 0.984\n",
      " 0.9848     0.98453333 0.98533333 0.95493333 0.984      0.98506667\n",
      " 0.984      0.98453333        nan        nan        nan        nan\n",
      "        nan 0.97333333 0.9856     0.98266667 0.98346667 0.98346667\n",
      " 0.95866667 0.98506667 0.98346667 0.9848     0.98346667 0.96026667\n",
      " 0.98373333 0.98186667 0.98346667 0.98346667 0.96666667 0.98266667\n",
      " 0.9832     0.98373333 0.98373333        nan        nan        nan\n",
      "        nan        nan 0.96506667 0.98346667 0.98293333 0.9816\n",
      " 0.9832     0.95333333 0.98186667 0.98106667 0.98213333 0.98186667\n",
      " 0.96346667 0.98293333 0.98106667 0.98266667 0.9824     0.96053333\n",
      " 0.98293333 0.98186667 0.98293333 0.98133333        nan        nan\n",
      "        nan        nan        nan 0.96933333 0.97946667 0.98106667\n",
      " 0.9824     0.9808     0.9568     0.98106667 0.98186667 0.97973333\n",
      " 0.98053333 0.95173333 0.98106667 0.9816     0.98186667 0.98133333\n",
      " 0.95733333 0.98133333 0.9816     0.98053333 0.98026667        nan\n",
      "        nan        nan        nan        nan 0.95573333 0.98053333\n",
      " 0.9808     0.97973333 0.97946667 0.9608     0.97946667 0.98026667\n",
      " 0.98026667 0.97973333 0.95306667 0.9784     0.98053333 0.98026667\n",
      " 0.98       0.95333333 0.97893333 0.97973333 0.9792     0.97973333\n",
      "        nan        nan        nan        nan        nan 0.9568\n",
      " 0.98453333 0.98506667 0.98453333 0.98533333 0.9616     0.98506667\n",
      " 0.98373333 0.9856     0.98426667 0.96826667 0.98373333 0.98506667\n",
      " 0.98453333 0.9848     0.96186667 0.98426667 0.984      0.984\n",
      " 0.98453333        nan        nan        nan        nan        nan\n",
      " 0.95786667 0.9832     0.98346667 0.98453333 0.98373333 0.9592\n",
      " 0.98453333 0.98426667 0.98426667 0.98426667 0.96053333 0.98346667\n",
      " 0.98373333 0.984      0.98373333 0.96373333 0.9816     0.9832\n",
      " 0.98346667 0.9832            nan        nan        nan        nan\n",
      "        nan 0.95733333 0.98213333 0.98213333 0.98213333 0.98213333\n",
      " 0.96453333 0.98186667 0.98213333 0.98186667 0.98213333 0.9608\n",
      " 0.98213333 0.98293333 0.98213333 0.9824     0.96106667 0.98346667\n",
      " 0.98186667 0.9824     0.9824            nan        nan        nan\n",
      "        nan        nan 0.9504     0.98026667 0.98133333 0.98106667\n",
      " 0.9808     0.96       0.98106667 0.98053333 0.98106667 0.98106667\n",
      " 0.9664     0.98106667 0.9792     0.98106667 0.98133333 0.95893333\n",
      " 0.9824     0.98186667 0.98053333 0.98106667        nan        nan\n",
      "        nan        nan        nan 0.95493333 0.98       0.98053333\n",
      " 0.98       0.97946667 0.9448     0.98       0.97973333 0.98053333\n",
      " 0.97946667 0.952      0.98       0.97946667 0.9792     0.97973333\n",
      " 0.95573333 0.98       0.98053333 0.98026667 0.9784            nan\n",
      "        nan        nan        nan        nan 0.9672     0.98533333\n",
      " 0.98506667 0.98506667 0.98426667 0.95733333 0.98426667 0.98346667\n",
      " 0.9856     0.98506667 0.95893333 0.984      0.9856     0.9848\n",
      " 0.9848     0.97093333 0.98346667 0.98453333 0.98506667 0.984\n",
      "        nan        nan        nan        nan        nan 0.96266667\n",
      " 0.98293333 0.98346667 0.98533333 0.984      0.96533333 0.98426667\n",
      " 0.98293333 0.984      0.984      0.96453333 0.98346667 0.98346667\n",
      " 0.98373333 0.98293333 0.95626667 0.98293333 0.98506667 0.98293333\n",
      " 0.984             nan        nan        nan        nan        nan\n",
      " 0.96266667 0.98133333 0.98213333 0.98186667 0.98266667 0.95306667\n",
      " 0.98133333 0.98266667 0.9824     0.98213333 0.95173333 0.9824\n",
      " 0.9824     0.98213333 0.9816     0.96213333 0.9832     0.9824\n",
      " 0.98346667 0.98266667        nan        nan        nan        nan\n",
      "        nan 0.94853333 0.98133333 0.98186667 0.98026667 0.98053333\n",
      " 0.9584     0.98133333 0.9816     0.9808     0.9808     0.95226667\n",
      " 0.98053333 0.9816     0.9808     0.98106667 0.9616     0.9808\n",
      " 0.98186667 0.98106667 0.97973333        nan        nan        nan\n",
      "        nan        nan 0.94613333 0.97946667 0.98026667 0.97893333\n",
      " 0.97946667 0.95973333 0.9784     0.98053333 0.97946667 0.97973333\n",
      " 0.9632     0.97866667 0.97946667 0.97946667 0.97946667 0.956\n",
      " 0.97973333 0.9792     0.9792     0.97866667]\n",
      "  warnings.warn(\n"
     ]
    }
   ],
   "source": [
    "# Importing GridSearchCV\n",
    "from sklearn.model_selection import GridSearchCV\n",
    "\n",
    "# Creating and Defining hyperparameters of model\n",
    "cls_model = rf_cls\n",
    "parameters = {'max_depth'               : [50,100,150,200], \n",
    "              'min_samples_leaf'        : list(range(1,10,2)),\n",
    "              'min_samples_split'       : list(range(1,10,2)),\n",
    "              'n_estimators'            : list(range(1,501,100)),\n",
    "              'bootstrap'               : [True,False]\n",
    "              }\n",
    "\n",
    "\n",
    "# Instantiate the grid search model\n",
    "grid = GridSearchCV(estimator = rf_cls ,param_grid = parameters, cv = 3, n_jobs = -1, verbose = 2) # n_jobs is defined to speed up the process\n",
    "\n",
    "# Fitting GridSearchCV\n",
    "grid.fit(train_x, train_y)\n",
    "\n",
    "# Getting the Best hyperparameters\n",
    "best_par = grid.best_params_"
   ]
  },
  {
   "cell_type": "code",
   "execution_count": 26,
   "metadata": {},
   "outputs": [],
   "source": [
    "# Creating the optimal model with the best hyperparameters\n",
    "opt_model = RandomForestClassifier(**best_par)"
   ]
  },
  {
   "cell_type": "markdown",
   "metadata": {},
   "source": [
    "### Comparison of original and tuned models"
   ]
  },
  {
   "cell_type": "code",
   "execution_count": 27,
   "metadata": {},
   "outputs": [
    {
     "data": {
      "text/html": [
       "<div>\n",
       "<style scoped>\n",
       "    .dataframe tbody tr th:only-of-type {\n",
       "        vertical-align: middle;\n",
       "    }\n",
       "\n",
       "    .dataframe tbody tr th {\n",
       "        vertical-align: top;\n",
       "    }\n",
       "\n",
       "    .dataframe thead th {\n",
       "        text-align: right;\n",
       "    }\n",
       "</style>\n",
       "<table border=\"1\" class=\"dataframe\">\n",
       "  <thead>\n",
       "    <tr style=\"text-align: right;\">\n",
       "      <th></th>\n",
       "      <th>Model</th>\n",
       "      <th>Precision</th>\n",
       "      <th>F1 Score</th>\n",
       "      <th>ROC-AUC Score</th>\n",
       "    </tr>\n",
       "  </thead>\n",
       "  <tbody>\n",
       "    <tr>\n",
       "      <th>0</th>\n",
       "      <td>Original RF Model</td>\n",
       "      <td>0.979841</td>\n",
       "      <td>0.920557</td>\n",
       "      <td>0.997176</td>\n",
       "    </tr>\n",
       "    <tr>\n",
       "      <th>1</th>\n",
       "      <td>Tuned RF Model</td>\n",
       "      <td>0.967131</td>\n",
       "      <td>0.922495</td>\n",
       "      <td>0.996963</td>\n",
       "    </tr>\n",
       "  </tbody>\n",
       "</table>\n",
       "</div>"
      ],
      "text/plain": [
       "               Model  Precision  F1 Score  ROC-AUC Score\n",
       "0  Original RF Model   0.979841  0.920557       0.997176\n",
       "1     Tuned RF Model   0.967131  0.922495       0.996963"
      ]
     },
     "execution_count": 27,
     "metadata": {},
     "output_type": "execute_result"
    }
   ],
   "source": [
    "# We shall use the dunction defined during cross-validation of the various classification models\n",
    "\n",
    "# Creating a Cross-Validation Function\n",
    "def cv_model(model, x, y):\n",
    "    precision_scores = cross_val_score(model, x, y, cv=cv, scoring='precision')\n",
    "    f1_scores = cross_val_score(model, x, y, cv=cv, scoring='f1')\n",
    "    roc_auc_scores = cross_val_score(model, x, y, cv=cv, scoring = 'roc_auc')\n",
    "\n",
    "    return precision_scores.mean(), f1_scores.mean(), roc_auc_scores.mean()\n",
    "\n",
    "# Performing Cross-Validation for each model\n",
    "results = []\n",
    "models = [\"Original RF Model\", \"Tuned RF Model\"]\n",
    "\n",
    "for model, model_name in zip([rf_cls, opt_model], models ):\n",
    "    precision_scores_mean, f1_mean, roc_auc_mean = cv_model(model, x, y)\n",
    "\n",
    "    # Storing the Results\n",
    "    results.append({\n",
    "        \"Model\": model_name,\n",
    "        \"Precision\": precision_scores_mean,\n",
    "        \"F1 Score\": f1_mean,\n",
    "        \"ROC-AUC Score\": roc_auc_mean\n",
    "    })\n",
    "\n",
    "# Creating a dataframe to store the results\n",
    "cv_df = pd.DataFrame(results)\n",
    "cv_df"
   ]
  },
  {
   "cell_type": "markdown",
   "metadata": {},
   "source": [
    "From above results, we can conclude that the F1 score has improved in the Tuned RF Model.\n",
    "\n",
    "Precision is important if we want to minimize the risk of approving a loan that shouldn't be approved.\n",
    "F1 score is important if we want to balance the trade-off between false positives and false negatives.\n",
    "ROC-AUC is important if we are interested in the overall ability of the model to discriminate between approved and not-approved loans, considering different probability thresholds.\n",
    "\n",
    "If we take Precision and ROC-AUC to be the important factors, we use the original RF Model to predict the results on the final test data set.\n",
    "If we take F1 score to be the important factor, we use the tuned RF Model to predict the results on the final test data set."
   ]
  },
  {
   "cell_type": "markdown",
   "metadata": {},
   "source": [
    "# Predicting on the Test Data Set"
   ]
  },
  {
   "cell_type": "markdown",
   "metadata": {},
   "source": [
    "### Using the Original Model"
   ]
  },
  {
   "cell_type": "code",
   "execution_count": 35,
   "metadata": {},
   "outputs": [],
   "source": [
    "# Fitting the model to Train Data\n",
    "rf_cls.fit(train_x, train_y)\n",
    "# Predicting on Test Data\n",
    "test_pre1 = rf_cls.predict(test_x)"
   ]
  },
  {
   "cell_type": "code",
   "execution_count": 36,
   "metadata": {},
   "outputs": [],
   "source": [
    "# Evaluation using Precision:\n",
    "from sklearn.metrics import precision_score\n",
    "Precision1 = precision_score(test_y, test_pre1)\n",
    "\n",
    "# Evaluation using F1 Score:\n",
    "from sklearn.metrics import f1_score\n",
    "F1_Score1 = f1_score(test_y, test_pre1)\n",
    "\n",
    "# Evaluation using ROC-AUC:\n",
    "from sklearn.metrics import roc_auc_score\n",
    "ROC_AUC1 = roc_auc_score(test_y, test_pre1)"
   ]
  },
  {
   "cell_type": "markdown",
   "metadata": {},
   "source": [
    "### Using the Tuned Model"
   ]
  },
  {
   "cell_type": "code",
   "execution_count": 37,
   "metadata": {},
   "outputs": [],
   "source": [
    "\n",
    "# Fitting the model to Train Data\n",
    "opt_model.fit(train_x, train_y)\n",
    "# Predicting on Test Data\n",
    "test_pre2 = opt_model.predict(test_x)"
   ]
  },
  {
   "cell_type": "code",
   "execution_count": 38,
   "metadata": {},
   "outputs": [],
   "source": [
    "# Evaluation using Precision:\n",
    "Precision2 = precision_score(test_y, test_pre2)\n",
    "\n",
    "# Evaluation using F1 Score:\n",
    "F1_Score2= f1_score(test_y, test_pre2)\n",
    "\n",
    "# Evaluation using ROC-AUC:\n",
    "ROC_AUC2 = roc_auc_score(test_y, test_pre2)"
   ]
  },
  {
   "cell_type": "markdown",
   "metadata": {},
   "source": [
    "### Comparison"
   ]
  },
  {
   "cell_type": "code",
   "execution_count": 39,
   "metadata": {},
   "outputs": [
    {
     "data": {
      "text/html": [
       "<div>\n",
       "<style scoped>\n",
       "    .dataframe tbody tr th:only-of-type {\n",
       "        vertical-align: middle;\n",
       "    }\n",
       "\n",
       "    .dataframe tbody tr th {\n",
       "        vertical-align: top;\n",
       "    }\n",
       "\n",
       "    .dataframe thead th {\n",
       "        text-align: right;\n",
       "    }\n",
       "</style>\n",
       "<table border=\"1\" class=\"dataframe\">\n",
       "  <thead>\n",
       "    <tr style=\"text-align: right;\">\n",
       "      <th></th>\n",
       "      <th>Model</th>\n",
       "      <th>Precision</th>\n",
       "      <th>F1 Score</th>\n",
       "      <th>ROC-AUC</th>\n",
       "    </tr>\n",
       "  </thead>\n",
       "  <tbody>\n",
       "    <tr>\n",
       "      <th>0</th>\n",
       "      <td>Original RF Model</td>\n",
       "      <td>0.989796</td>\n",
       "      <td>0.941748</td>\n",
       "      <td>0.948636</td>\n",
       "    </tr>\n",
       "    <tr>\n",
       "      <th>1</th>\n",
       "      <td>Tuned RF Model</td>\n",
       "      <td>0.979592</td>\n",
       "      <td>0.932039</td>\n",
       "      <td>0.943569</td>\n",
       "    </tr>\n",
       "  </tbody>\n",
       "</table>\n",
       "</div>"
      ],
      "text/plain": [
       "               Model  Precision  F1 Score   ROC-AUC\n",
       "0  Original RF Model   0.989796  0.941748  0.948636\n",
       "1     Tuned RF Model   0.979592  0.932039  0.943569"
      ]
     },
     "execution_count": 39,
     "metadata": {},
     "output_type": "execute_result"
    }
   ],
   "source": [
    "comparison_data=[['Original RF Model',Precision1,F1_Score1,ROC_AUC1],['Tuned RF Model',Precision2,F1_Score2,ROC_AUC2]]\n",
    "comparison = pd.DataFrame(comparison_data,columns=['Model','Precision','F1 Score','ROC-AUC'])\n",
    "comparison"
   ]
  }
 ],
 "metadata": {
  "kernelspec": {
   "display_name": "myenv",
   "language": "python",
   "name": "python3"
  },
  "language_info": {
   "codemirror_mode": {
    "name": "ipython",
    "version": 3
   },
   "file_extension": ".py",
   "mimetype": "text/x-python",
   "name": "python",
   "nbconvert_exporter": "python",
   "pygments_lexer": "ipython3",
   "version": "3.9.18"
  }
 },
 "nbformat": 4,
 "nbformat_minor": 2
}
